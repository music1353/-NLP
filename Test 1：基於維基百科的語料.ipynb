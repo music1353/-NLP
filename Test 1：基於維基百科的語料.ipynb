{
 "cells": [
  {
   "cell_type": "markdown",
   "metadata": {},
   "source": [
    "### 1. 把維基百科資料讀出"
   ]
  },
  {
   "cell_type": "code",
   "execution_count": 1,
   "metadata": {},
   "outputs": [
    {
     "name": "stderr",
     "output_type": "stream",
     "text": [
      "2017-12-05 03:15:40,070 : INFO : 已處理 10000 篇文章\n",
      "2017-12-05 03:16:11,646 : INFO : 已處理 20000 篇文章\n",
      "2017-12-05 03:16:40,125 : INFO : 已處理 30000 篇文章\n",
      "2017-12-05 03:17:08,763 : INFO : 已處理 40000 篇文章\n",
      "2017-12-05 03:17:38,526 : INFO : 已處理 50000 篇文章\n",
      "2017-12-05 03:18:08,070 : INFO : 已處理 60000 篇文章\n",
      "2017-12-05 03:18:35,903 : INFO : 已處理 70000 篇文章\n",
      "2017-12-05 03:19:04,648 : INFO : 已處理 80000 篇文章\n",
      "2017-12-05 03:19:32,788 : INFO : 已處理 90000 篇文章\n",
      "2017-12-05 03:20:03,534 : INFO : 已處理 100000 篇文章\n",
      "2017-12-05 03:20:41,418 : INFO : 已處理 110000 篇文章\n",
      "2017-12-05 03:21:16,119 : INFO : 已處理 120000 篇文章\n",
      "2017-12-05 03:21:51,791 : INFO : 已處理 130000 篇文章\n",
      "2017-12-05 03:22:27,692 : INFO : 已處理 140000 篇文章\n",
      "2017-12-05 03:23:02,943 : INFO : 已處理 150000 篇文章\n",
      "2017-12-05 03:23:37,486 : INFO : 已處理 160000 篇文章\n",
      "2017-12-05 03:24:14,164 : INFO : 已處理 170000 篇文章\n",
      "2017-12-05 03:24:53,872 : INFO : 已處理 180000 篇文章\n",
      "2017-12-05 03:27:47,548 : INFO : 已處理 190000 篇文章\n",
      "2017-12-05 03:29:08,702 : INFO : 已處理 200000 篇文章\n",
      "2017-12-05 03:30:18,716 : INFO : 已處理 210000 篇文章\n",
      "2017-12-05 03:31:14,674 : INFO : 已處理 220000 篇文章\n",
      "2017-12-05 03:32:11,950 : INFO : 已處理 230000 篇文章\n",
      "2017-12-05 03:33:17,014 : INFO : 已處理 240000 篇文章\n",
      "2017-12-05 03:34:14,286 : INFO : 已處理 250000 篇文章\n",
      "2017-12-05 03:35:09,194 : INFO : 已處理 260000 篇文章\n",
      "2017-12-05 03:36:15,039 : INFO : 已處理 270000 篇文章\n",
      "2017-12-05 03:37:10,843 : INFO : 已處理 280000 篇文章\n",
      "2017-12-05 03:38:07,782 : INFO : 已處理 290000 篇文章\n",
      "2017-12-05 03:39:05,422 : INFO : 已處理 300000 篇文章\n",
      "2017-12-05 03:39:32,924 : INFO : finished iterating over Wikipedia corpus of 303921 documents with 68598674 positions (total 3051986 articles, 81728433 positions before pruning articles shorter than 50 words)\n"
     ]
    }
   ],
   "source": [
    "# -*- coding: utf-8 -*-\n",
    "\n",
    "import gensim\n",
    "import logging\n",
    "\n",
    "input_file = \"wiki_article/zhwiki-20171201-pages-articles-multistream.xml.bz2\"\n",
    "\n",
    "logging.basicConfig(format='%(asctime)s : %(levelname)s : %(message)s', level=logging.INFO)\n",
    "wiki =  gensim.corpora.WikiCorpus(input_file, lemmatize=False, dictionary={})\n",
    "\n",
    "texts_num = 0\n",
    "with open(\"wiki_article/wiki_text.txt\",'w',encoding='utf-8') as output:\n",
    "    for text in wiki.get_texts():\n",
    "        output.write(' '.join(text) + '\\n')\n",
    "        texts_num += 1\n",
    "        if texts_num % 10000 == 0:\n",
    "            logging.info(\"已處理 %d 篇文章\" % texts_num)"
   ]
  },
  {
   "cell_type": "markdown",
   "metadata": {
    "collapsed": true
   },
   "source": [
    "### 2. 使用OpenCC把簡體文字轉為繁體"
   ]
  },
  {
   "cell_type": "code",
   "execution_count": 2,
   "metadata": {
    "collapsed": true
   },
   "outputs": [],
   "source": [
    "# opencc -i wiki_text.txt -o zh_wiki_text.txt -c s2tw.json\n",
    "# wiki_text.txt -> zh_wiki_text.txt"
   ]
  },
  {
   "cell_type": "code",
   "execution_count": null,
   "metadata": {
    "collapsed": true
   },
   "outputs": [],
   "source": []
  }
 ],
 "metadata": {
  "kernelspec": {
   "display_name": "Python 3",
   "language": "python",
   "name": "python3"
  },
  "language_info": {
   "codemirror_mode": {
    "name": "ipython",
    "version": 3
   },
   "file_extension": ".py",
   "mimetype": "text/x-python",
   "name": "python",
   "nbconvert_exporter": "python",
   "pygments_lexer": "ipython3",
   "version": "3.6.1"
  }
 },
 "nbformat": 4,
 "nbformat_minor": 2
}
