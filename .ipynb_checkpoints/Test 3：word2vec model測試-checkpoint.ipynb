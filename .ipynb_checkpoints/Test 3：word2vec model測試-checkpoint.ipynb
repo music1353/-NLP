{
 "cells": [
  {
   "cell_type": "code",
   "execution_count": 1,
   "metadata": {},
   "outputs": [
    {
     "name": "stderr",
     "output_type": "stream",
     "text": [
      "C:\\Users\\User\\Anaconda3\\lib\\site-packages\\gensim\\utils.py:860: UserWarning: detected Windows; aliasing chunkize to chunkize_serial\n",
      "  warnings.warn(\"detected Windows; aliasing chunkize to chunkize_serial\")\n"
     ]
    }
   ],
   "source": [
    "from gensim.models import word2vec\n",
    "\n",
    "model = word2vec.Word2Vec.load(\"model/20171201wiki_model.bin\")"
   ]
  },
  {
   "cell_type": "code",
   "execution_count": 9,
   "metadata": {},
   "outputs": [
    {
     "name": "stdout",
     "output_type": "stream",
     "text": [
      "飲料\n",
      "相似詞前 10 排序\n",
      "飲品,0.8546463847160339\n",
      "果汁,0.7703162431716919\n",
      "口香糖,0.7083770036697388\n",
      "可口可樂,0.6921009421348572\n",
      "罐裝,0.689882218837738\n",
      "無糖,0.6885988712310791\n",
      "冰淇淋,0.6840211153030396\n",
      "酒精類,0.6785057187080383\n",
      "酸奶,0.6750637292861938\n",
      "牛奶,0.6732244491577148\n"
     ]
    }
   ],
   "source": [
    "query = input()\n",
    "q_list = query.split()\n",
    "\n",
    "# 輸入一個詞，則去尋找前十個該詞的相似詞\n",
    "if len(q_list) == 1:\n",
    "    print(\"相似詞前 10 排序\")\n",
    "    res = model.most_similar(q_list[0],topn = 10)\n",
    "    \n",
    "    for item in res:\n",
    "        print(item[0]+\",\"+str(item[1]))\n",
    "        \n",
    "#輸入兩個詞，則去計算兩個詞的餘弦相似度\n",
    "elif len(q_list) == 2:\n",
    "    print(\"計算 Cosine 相似度\")\n",
    "    res = model.similarity(q_list[0],q_list[1])\n",
    "    print(res)\n",
    "\n",
    "# 輸入三個詞，進行類比推理\n",
    "else:\n",
    "    print(\"%s之於%s，如%s之於\" % (q_list[0],q_list[2],q_list[1]))\n",
    "    res = model.most_similar([q_list[0],q_list[1]], [q_list[2]], topn= 100)\n",
    "    for item in res:\n",
    "        print(item[0]+\",\"+str(item[1]))"
   ]
  },
  {
   "cell_type": "code",
   "execution_count": 23,
   "metadata": {},
   "outputs": [
    {
     "name": "stdout",
     "output_type": "stream",
     "text": [
      "請輸入句子：我是管理員\n",
      "['管理']\n",
      "[[('負責管理', 0.6645449995994568), ('管理工作', 0.6450650691986084), ('監管', 0.629430890083313), ('管理機構', 0.6061522960662842), ('控管', 0.6022821068763733), ('行政事務', 0.5898493528366089), ('風險管理', 0.589529275894165), ('項目管理', 0.5891011953353882), ('維護', 0.5828297734260559), ('治理', 0.579475998878479)]]\n"
     ]
    }
   ],
   "source": [
    "import jieba\n",
    "import jieba.analyse\n",
    "from gensim.models import word2vec\n",
    "\n",
    "sentence = input('請輸入句子：')\n",
    "\n",
    "predict = jieba.analyse.extract_tags(sentence, topK=20, withWeight=False, allowPOS=())\n",
    "\n",
    "synonym = []\n",
    "\n",
    "for word in predict:\n",
    "    syn_word = model.most_similar(word)\n",
    "    synonym.append(syn_word)\n",
    "    \n",
    "print(predict)\n",
    "print(synonym)"
   ]
  },
  {
   "cell_type": "code",
   "execution_count": null,
   "metadata": {
    "collapsed": true
   },
   "outputs": [],
   "source": []
  }
 ],
 "metadata": {
  "kernelspec": {
   "display_name": "Python 3",
   "language": "python",
   "name": "python3"
  },
  "language_info": {
   "codemirror_mode": {
    "name": "ipython",
    "version": 3
   },
   "file_extension": ".py",
   "mimetype": "text/x-python",
   "name": "python",
   "nbconvert_exporter": "python",
   "pygments_lexer": "ipython3",
   "version": "3.6.1"
  }
 },
 "nbformat": 4,
 "nbformat_minor": 2
}
