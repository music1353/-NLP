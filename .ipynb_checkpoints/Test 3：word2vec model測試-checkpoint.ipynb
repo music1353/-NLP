{
 "cells": [
  {
   "cell_type": "code",
   "execution_count": 1,
   "metadata": {},
   "outputs": [
    {
     "name": "stderr",
     "output_type": "stream",
     "text": [
      "C:\\Users\\User\\Anaconda3\\lib\\site-packages\\gensim\\utils.py:860: UserWarning: detected Windows; aliasing chunkize to chunkize_serial\n",
      "  warnings.warn(\"detected Windows; aliasing chunkize to chunkize_serial\")\n"
     ]
    }
   ],
   "source": [
    "from gensim.models import word2vec\n",
    "\n",
    "model = word2vec.Word2Vec.load(\"model/20171201wiki_model.bin\")"
   ]
  },
  {
   "cell_type": "code",
   "execution_count": 10,
   "metadata": {},
   "outputs": [
    {
     "name": "stdout",
     "output_type": "stream",
     "text": [
      "胃痛 咳嗽\n",
      "計算 Cosine 相似度\n",
      "0.841776693314\n"
     ]
    }
   ],
   "source": [
    "query = input()\n",
    "q_list = query.split()\n",
    "\n",
    "# 輸入一個詞，則去尋找前十個該詞的相似詞\n",
    "if len(q_list) == 1:\n",
    "    print(\"相似詞前 10 排序\")\n",
    "    res = model.most_similar(q_list[0],topn = 10)\n",
    "    \n",
    "    for item in res:\n",
    "        print(item[0]+\",\"+str(item[1]))\n",
    "        \n",
    "#輸入兩個詞，則去計算兩個詞的餘弦相似度\n",
    "elif len(q_list) == 2:\n",
    "    print(\"計算 Cosine 相似度\")\n",
    "    res = model.similarity(q_list[0],q_list[1])\n",
    "    print(res)\n",
    "\n",
    "# 輸入三個詞，進行類比推理\n",
    "else:\n",
    "    print(\"%s之於%s，如%s之於\" % (q_list[0],q_list[2],q_list[1]))\n",
    "    res = model.most_similar([q_list[0],q_list[1]], [q_list[2]], topn= 100)\n",
    "    for item in res:\n",
    "        print(item[0]+\",\"+str(item[1]))"
   ]
  },
  {
   "cell_type": "code",
   "execution_count": 4,
   "metadata": {},
   "outputs": [
    {
     "name": "stdout",
     "output_type": "stream",
     "text": [
      "請輸入句子：有點咳嗽跟肚子痛\n",
      "['有點', '肚子痛', '咳嗽']\n",
      "[[('帶點', 0.668464183807373), ('很', 0.6397585868835449), ('一臉', 0.6359888911247253), ('略顯', 0.6323879361152649), ('太過', 0.6313871145248413), ('沒什麼', 0.6310173273086548), ('非常', 0.6080154776573181), ('看似', 0.6077089309692383), ('不怎麼', 0.6051269173622131), ('害羞', 0.6005153656005859)], [('噴鼻血', 0.6231034994125366), ('拉肚子', 0.6183355450630188), ('尿急', 0.611879825592041), ('著涼', 0.6013826131820679), ('發酒瘋', 0.5970568656921387), ('流鼻血', 0.5966778993606567), ('尿床', 0.5883338451385498), ('流口水', 0.5798938274383545), ('承受不住', 0.5787687301635742), ('暈倒', 0.5757814645767212)], [('腹瀉', 0.8899589776992798), ('呼吸困難', 0.8899554014205933), ('腹痛', 0.8892500400543213), ('便祕', 0.8883642554283142), ('嘔吐', 0.8754249215126038), ('頭暈', 0.869399905204773), ('氣喘', 0.8683830499649048), ('口乾', 0.859574019908905), ('耳鳴', 0.8561222553253174), ('腹脹', 0.8551681041717529)]]\n"
     ]
    }
   ],
   "source": [
    "import jieba\n",
    "import jieba.analyse\n",
    "from gensim.models import word2vec\n",
    "\n",
    "sentence = input('請輸入句子：')\n",
    "\n",
    "predict = jieba.analyse.extract_tags(sentence, topK=20, withWeight=False, allowPOS=())\n",
    "\n",
    "synonym = []\n",
    "\n",
    "for word in predict:\n",
    "    syn_word = model.most_similar(word)\n",
    "    synonym.append(syn_word)\n",
    "    \n",
    "print(predict)\n",
    "print(synonym)"
   ]
  },
  {
   "cell_type": "code",
   "execution_count": null,
   "metadata": {
    "collapsed": true
   },
   "outputs": [],
   "source": []
  }
 ],
 "metadata": {
  "kernelspec": {
   "display_name": "Python 3",
   "language": "python",
   "name": "python3"
  },
  "language_info": {
   "codemirror_mode": {
    "name": "ipython",
    "version": 3
   },
   "file_extension": ".py",
   "mimetype": "text/x-python",
   "name": "python",
   "nbconvert_exporter": "python",
   "pygments_lexer": "ipython3",
   "version": "3.6.1"
  }
 },
 "nbformat": 4,
 "nbformat_minor": 2
}
