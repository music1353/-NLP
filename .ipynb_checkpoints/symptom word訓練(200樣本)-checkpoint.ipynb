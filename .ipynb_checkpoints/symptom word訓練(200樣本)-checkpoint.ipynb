{
 "cells": [
  {
   "cell_type": "code",
   "execution_count": 1,
   "metadata": {},
   "outputs": [
    {
     "name": "stderr",
     "output_type": "stream",
     "text": [
      "Building prefix dict from C:\\Users\\User\\pythonRepository\\SemanticAnalysis\\jieba_dict\\dict.txt.big ...\n",
      "Loading model from cache C:\\Users\\User\\AppData\\Local\\Temp\\jieba.ua442fad0dbeebb90d0fa2ffe39e75bc0.cache\n",
      "Loading model cost 1.335 seconds.\n",
      "Prefix dict has been built succesfully.\n"
     ]
    },
    {
     "name": "stdout",
     "output_type": "stream",
     "text": [
      "['火 大 ', '火氣 大 ', '火 很大 ', '很火 ', '煩躁 ', '很煩 ', '厭煩 ', '咳嗽 ', '喉嚨 ', '喉嚨痛 ', '喉嚨 不 舒服 ', '喉嚨 癢 ', '喉嚨 乾 ', '喉嚨 腫 ', '血壓 有點 高 ', '血壓高 ', '高血壓 ', '血壓 偏高 ', '血壓 微高 ', '胃痛 ', '胃潰瘍 ', '胃穿孔 ', '胃部 很痛 ', '胃 很 痛 ', '胃 非常 痛 ', '痰 ', '喉嚨 有 痰 ', '喉嚨 痰 ', '喉嚨 痰 ', '有 痰 ', '風濕 ', '風濕 ', '風濕 ', '有風濕 ', '筋骨 痛 ', '全身 痠痛 ', '身體 痛 ', '骨頭 痛 ', '腰酸背痛 ', '身體 疼痛 ', '胃痛 ', '胃 不 舒服 ', '胃疼 ', '胃部 疼痛 ', '腹痛 ', '腹部 痛 ', '腎臟病 ', '腎臟 痛 ', '腎臟 不 舒服 ', '腎臟 部位 痛 ', '火 大 ', '火氣 大 ', '火 很大 ', '很火 ', '煩躁 ', '很煩 ', '厭煩 ', '咳嗽 ', '喉嚨 ', '喉嚨痛 ', '喉嚨 不 舒服 ', '喉嚨 癢 ', '喉嚨 乾 ', '喉嚨 腫 ', '血壓 有點 高 ', '血壓高 ', '高血壓 ', '血壓 偏高 ', '血壓 微高 ', '胃痛 ', '胃潰瘍 ', '胃穿孔 ', '胃部 很痛 ', '胃 很 痛 ', '胃 非常 痛 ', '痰 ', '喉嚨 有 痰 ', '喉嚨 痰 ', '喉嚨 痰 ', '有 痰 ', '風濕 ', '風濕 ', '風濕 ', '有風濕 ', '筋骨 痛 ', '全身 痠痛 ', '身體 痛 ', '骨頭 痛 ', '腰酸背痛 ', '身體 疼痛 ', '胃痛 ', '胃 不 舒服 ', '胃疼 ', '胃部 疼痛 ', '腹痛 ', '腹部 痛 ', '腎臟病 ', '腎臟 痛 ', '腎臟 不 舒服 ', '腎臟 部位 痛 ', '火 大 ', '火氣 大 ', '火 很大 ', '很火 ', '煩躁 ', '很煩 ', '厭煩 ', '咳嗽 ', '喉嚨 ', '喉嚨痛 ', '喉嚨 不 舒服 ', '喉嚨 癢 ', '喉嚨 乾 ', '喉嚨 腫 ', '血壓 有點 高 ', '血壓高 ', '高血壓 ', '血壓 偏高 ', '血壓 微高 ', '胃痛 ', '胃潰瘍 ', '胃穿孔 ', '胃部 很痛 ', '胃 很 痛 ', '胃 非常 痛 ', '痰 ', '喉嚨 有 痰 ', '喉嚨 痰 ', '喉嚨 痰 ', '有 痰 ', '風濕 ', '風濕 ', '風濕 ', '有風濕 ', '筋骨 痛 ', '全身 痠痛 ', '身體 痛 ', '骨頭 痛 ', '腰酸背痛 ', '身體 疼痛 ', '胃痛 ', '胃 不 舒服 ', '胃疼 ', '胃部 疼痛 ', '腹痛 ', '腹部 痛 ', '腎臟病 ', '腎臟 痛 ', '腎臟 不 舒服 ', '腎臟 部位 痛 ', '火 大 ', '火氣 大 ', '火 很大 ', '很火 ', '煩躁 ', '很煩 ', '厭煩 ', '咳嗽 ', '喉嚨 ', '喉嚨痛 ', '喉嚨 不 舒服 ', '喉嚨 癢 ', '喉嚨 乾 ', '喉嚨 腫 ', '血壓 有點 高 ', '血壓高 ', '高血壓 ', '血壓 偏高 ', '血壓 微高 ', '胃痛 ', '胃潰瘍 ', '胃穿孔 ', '胃部 很痛 ', '胃 很 痛 ', '胃 非常 痛 ', '痰 ', '喉嚨 有 痰 ', '喉嚨 痰 ', '喉嚨 痰 ', '有 痰 ', '風濕 ', '風濕 ', '風濕 ', '有風濕 ', '筋骨 痛 ', '全身 痠痛 ', '身體 痛 ', '骨頭 痛 ', '腰酸背痛 ', '身體 疼痛 ', '胃痛 ', '胃 不 舒服 ', '胃疼 ', '胃部 疼痛 ', '腹痛 ', '腹部 痛 ', '腎臟病 ', '腎臟 痛 ', '腎臟 不 舒服 ', '腎臟 部位 痛']\n",
      "['0', '0', '0', '0', '0', '0', '0', '1', '1', '1', '1', '1', '1', '1', '2', '2', '2', '2', '2', '3', '3', '3', '3', '3', '3', '4', '4', '4', '4', '4', '5', '5', '5', '5', '6', '6', '6', '6', '6', '6', '7', '7', '7', '7', '7', '7', '8', '8', '8', '8', '0', '0', '0', '0', '0', '0', '0', '1', '1', '1', '1', '1', '1', '1', '2', '2', '2', '2', '2', '3', '3', '3', '3', '3', '3', '4', '4', '4', '4', '4', '5', '5', '5', '5', '6', '6', '6', '6', '6', '6', '7', '7', '7', '7', '7', '7', '8', '8', '8', '8', '0', '0', '0', '0', '0', '0', '0', '1', '1', '1', '1', '1', '1', '1', '2', '2', '2', '2', '2', '3', '3', '3', '3', '3', '3', '4', '4', '4', '4', '4', '5', '5', '5', '5', '6', '6', '6', '6', '6', '6', '7', '7', '7', '7', '7', '7', '8', '8', '8', '8', '0', '0', '0', '0', '0', '0', '0', '1', '1', '1', '1', '1', '1', '1', '2', '2', '2', '2', '2', '3', '3', '3', '3', '3', '3', '4', '4', '4', '4', '4', '5', '5', '5', '5', '6', '6', '6', '6', '6', '6', '7', '7', '7', '7', '7', '7', '8', '8', '8', '8']\n"
     ]
    }
   ],
   "source": [
    "# 讀資料\n",
    "import jieba\n",
    "\n",
    "text = []\n",
    "mark = []\n",
    "\n",
    "# set jieba dict\n",
    "jieba.set_dictionary('jieba_dict/dict.txt.big')\n",
    "\n",
    "# 讀text資料\n",
    "with open('symptom_words/text2.txt', 'r') as label_text:\n",
    "    for line in label_text:\n",
    "        seg_line = jieba.cut(line, cut_all=False)\n",
    "        text.append(' '.join(seg_line).rstrip('\\n'))\n",
    "        \n",
    "# 讀mark資料\n",
    "with open('symptom_words/mark2.txt', 'r') as feacture_text:\n",
    "    for line in feacture_text:\n",
    "        mark.append(line.rstrip('\\n'))        \n",
    "        \n",
    "print(text)\n",
    "print(mark)"
   ]
  },
  {
   "cell_type": "code",
   "execution_count": 2,
   "metadata": {},
   "outputs": [
    {
     "name": "stdout",
     "output_type": "stream",
     "text": [
      "text: 200 , mark: 200\n"
     ]
    }
   ],
   "source": [
    "# 確認長度\n",
    "print( 'text:', len(text), ', mark:', len(mark) )"
   ]
  },
  {
   "cell_type": "code",
   "execution_count": 3,
   "metadata": {},
   "outputs": [
    {
     "name": "stderr",
     "output_type": "stream",
     "text": [
      "Using TensorFlow backend.\n"
     ]
    }
   ],
   "source": [
    "from keras.preprocessing import sequence\n",
    "from keras.preprocessing.text import Tokenizer\n",
    "\n",
    "# 建立token\n",
    "token = Tokenizer()\n",
    "token.fit_on_texts(text)"
   ]
  },
  {
   "cell_type": "code",
   "execution_count": 4,
   "metadata": {},
   "outputs": [
    {
     "name": "stdout",
     "output_type": "stream",
     "text": [
      "200\n"
     ]
    }
   ],
   "source": [
    "print(token.document_count)"
   ]
  },
  {
   "cell_type": "code",
   "execution_count": 5,
   "metadata": {},
   "outputs": [
    {
     "name": "stdout",
     "output_type": "stream",
     "text": [
      "{'喉嚨': 1, '痛': 2, '痰': 3, '不': 4, '舒服': 5, '血壓': 6, '胃': 7, '風濕': 8, '腎臟': 9, '火': 10, '大': 11, '胃痛': 12, '胃部': 13, '有': 14, '身體': 15, '疼痛': 16, '火氣': 17, '很大': 18, '很火': 19, '煩躁': 20, '很煩': 21, '厭煩': 22, '咳嗽': 23, '喉嚨痛': 24, '癢': 25, '乾': 26, '腫': 27, '有點': 28, '高': 29, '血壓高': 30, '高血壓': 31, '偏高': 32, '微高': 33, '胃潰瘍': 34, '胃穿孔': 35, '很痛': 36, '很': 37, '非常': 38, '有風濕': 39, '筋骨': 40, '全身': 41, '痠痛': 42, '骨頭': 43, '腰酸背痛': 44, '胃疼': 45, '腹痛': 46, '腹部': 47, '腎臟病': 48, '部位': 49}\n"
     ]
    }
   ],
   "source": [
    "print(token.word_index)"
   ]
  },
  {
   "cell_type": "code",
   "execution_count": 6,
   "metadata": {
    "collapsed": true
   },
   "outputs": [],
   "source": [
    "# 把text轉為數字list\n",
    "text_seq = token.texts_to_sequences(text)"
   ]
  },
  {
   "cell_type": "code",
   "execution_count": 7,
   "metadata": {},
   "outputs": [
    {
     "name": "stdout",
     "output_type": "stream",
     "text": [
      "[[10, 11], [17, 11], [10, 18], [19], [20], [21], [22], [23], [1], [24], [1, 4, 5], [1, 25], [1, 26], [1, 27], [6, 28, 29], [30], [31], [6, 32], [6, 33], [12], [34], [35], [13, 36], [7, 37, 2], [7, 38, 2], [3], [1, 14, 3], [1, 3], [1, 3], [14, 3], [8], [8], [8], [39], [40, 2], [41, 42], [15, 2], [43, 2], [44], [15, 16], [12], [7, 4, 5], [45], [13, 16], [46], [47, 2], [48], [9, 2], [9, 4, 5], [9, 49, 2], [10, 11], [17, 11], [10, 18], [19], [20], [21], [22], [23], [1], [24], [1, 4, 5], [1, 25], [1, 26], [1, 27], [6, 28, 29], [30], [31], [6, 32], [6, 33], [12], [34], [35], [13, 36], [7, 37, 2], [7, 38, 2], [3], [1, 14, 3], [1, 3], [1, 3], [14, 3], [8], [8], [8], [39], [40, 2], [41, 42], [15, 2], [43, 2], [44], [15, 16], [12], [7, 4, 5], [45], [13, 16], [46], [47, 2], [48], [9, 2], [9, 4, 5], [9, 49, 2], [10, 11], [17, 11], [10, 18], [19], [20], [21], [22], [23], [1], [24], [1, 4, 5], [1, 25], [1, 26], [1, 27], [6, 28, 29], [30], [31], [6, 32], [6, 33], [12], [34], [35], [13, 36], [7, 37, 2], [7, 38, 2], [3], [1, 14, 3], [1, 3], [1, 3], [14, 3], [8], [8], [8], [39], [40, 2], [41, 42], [15, 2], [43, 2], [44], [15, 16], [12], [7, 4, 5], [45], [13, 16], [46], [47, 2], [48], [9, 2], [9, 4, 5], [9, 49, 2], [10, 11], [17, 11], [10, 18], [19], [20], [21], [22], [23], [1], [24], [1, 4, 5], [1, 25], [1, 26], [1, 27], [6, 28, 29], [30], [31], [6, 32], [6, 33], [12], [34], [35], [13, 36], [7, 37, 2], [7, 38, 2], [3], [1, 14, 3], [1, 3], [1, 3], [14, 3], [8], [8], [8], [39], [40, 2], [41, 42], [15, 2], [43, 2], [44], [15, 16], [12], [7, 4, 5], [45], [13, 16], [46], [47, 2], [48], [9, 2], [9, 4, 5], [9, 49, 2]]\n"
     ]
    }
   ],
   "source": [
    "print(text_seq)"
   ]
  },
  {
   "cell_type": "code",
   "execution_count": 8,
   "metadata": {
    "collapsed": true
   },
   "outputs": [],
   "source": [
    "# 讓每筆list長度都是4\n",
    "train_text = sequence.pad_sequences(text_seq, maxlen=4)"
   ]
  },
  {
   "cell_type": "code",
   "execution_count": 9,
   "metadata": {},
   "outputs": [
    {
     "name": "stdout",
     "output_type": "stream",
     "text": [
      "[[ 0  0 10 11]\n",
      " [ 0  0 17 11]\n",
      " [ 0  0 10 18]\n",
      " [ 0  0  0 19]\n",
      " [ 0  0  0 20]\n",
      " [ 0  0  0 21]\n",
      " [ 0  0  0 22]\n",
      " [ 0  0  0 23]\n",
      " [ 0  0  0  1]\n",
      " [ 0  0  0 24]\n",
      " [ 0  1  4  5]\n",
      " [ 0  0  1 25]\n",
      " [ 0  0  1 26]\n",
      " [ 0  0  1 27]\n",
      " [ 0  6 28 29]\n",
      " [ 0  0  0 30]\n",
      " [ 0  0  0 31]\n",
      " [ 0  0  6 32]\n",
      " [ 0  0  6 33]\n",
      " [ 0  0  0 12]\n",
      " [ 0  0  0 34]\n",
      " [ 0  0  0 35]\n",
      " [ 0  0 13 36]\n",
      " [ 0  7 37  2]\n",
      " [ 0  7 38  2]\n",
      " [ 0  0  0  3]\n",
      " [ 0  1 14  3]\n",
      " [ 0  0  1  3]\n",
      " [ 0  0  1  3]\n",
      " [ 0  0 14  3]\n",
      " [ 0  0  0  8]\n",
      " [ 0  0  0  8]\n",
      " [ 0  0  0  8]\n",
      " [ 0  0  0 39]\n",
      " [ 0  0 40  2]\n",
      " [ 0  0 41 42]\n",
      " [ 0  0 15  2]\n",
      " [ 0  0 43  2]\n",
      " [ 0  0  0 44]\n",
      " [ 0  0 15 16]\n",
      " [ 0  0  0 12]\n",
      " [ 0  7  4  5]\n",
      " [ 0  0  0 45]\n",
      " [ 0  0 13 16]\n",
      " [ 0  0  0 46]\n",
      " [ 0  0 47  2]\n",
      " [ 0  0  0 48]\n",
      " [ 0  0  9  2]\n",
      " [ 0  9  4  5]\n",
      " [ 0  9 49  2]\n",
      " [ 0  0 10 11]\n",
      " [ 0  0 17 11]\n",
      " [ 0  0 10 18]\n",
      " [ 0  0  0 19]\n",
      " [ 0  0  0 20]\n",
      " [ 0  0  0 21]\n",
      " [ 0  0  0 22]\n",
      " [ 0  0  0 23]\n",
      " [ 0  0  0  1]\n",
      " [ 0  0  0 24]\n",
      " [ 0  1  4  5]\n",
      " [ 0  0  1 25]\n",
      " [ 0  0  1 26]\n",
      " [ 0  0  1 27]\n",
      " [ 0  6 28 29]\n",
      " [ 0  0  0 30]\n",
      " [ 0  0  0 31]\n",
      " [ 0  0  6 32]\n",
      " [ 0  0  6 33]\n",
      " [ 0  0  0 12]\n",
      " [ 0  0  0 34]\n",
      " [ 0  0  0 35]\n",
      " [ 0  0 13 36]\n",
      " [ 0  7 37  2]\n",
      " [ 0  7 38  2]\n",
      " [ 0  0  0  3]\n",
      " [ 0  1 14  3]\n",
      " [ 0  0  1  3]\n",
      " [ 0  0  1  3]\n",
      " [ 0  0 14  3]\n",
      " [ 0  0  0  8]\n",
      " [ 0  0  0  8]\n",
      " [ 0  0  0  8]\n",
      " [ 0  0  0 39]\n",
      " [ 0  0 40  2]\n",
      " [ 0  0 41 42]\n",
      " [ 0  0 15  2]\n",
      " [ 0  0 43  2]\n",
      " [ 0  0  0 44]\n",
      " [ 0  0 15 16]\n",
      " [ 0  0  0 12]\n",
      " [ 0  7  4  5]\n",
      " [ 0  0  0 45]\n",
      " [ 0  0 13 16]\n",
      " [ 0  0  0 46]\n",
      " [ 0  0 47  2]\n",
      " [ 0  0  0 48]\n",
      " [ 0  0  9  2]\n",
      " [ 0  9  4  5]\n",
      " [ 0  9 49  2]\n",
      " [ 0  0 10 11]\n",
      " [ 0  0 17 11]\n",
      " [ 0  0 10 18]\n",
      " [ 0  0  0 19]\n",
      " [ 0  0  0 20]\n",
      " [ 0  0  0 21]\n",
      " [ 0  0  0 22]\n",
      " [ 0  0  0 23]\n",
      " [ 0  0  0  1]\n",
      " [ 0  0  0 24]\n",
      " [ 0  1  4  5]\n",
      " [ 0  0  1 25]\n",
      " [ 0  0  1 26]\n",
      " [ 0  0  1 27]\n",
      " [ 0  6 28 29]\n",
      " [ 0  0  0 30]\n",
      " [ 0  0  0 31]\n",
      " [ 0  0  6 32]\n",
      " [ 0  0  6 33]\n",
      " [ 0  0  0 12]\n",
      " [ 0  0  0 34]\n",
      " [ 0  0  0 35]\n",
      " [ 0  0 13 36]\n",
      " [ 0  7 37  2]\n",
      " [ 0  7 38  2]\n",
      " [ 0  0  0  3]\n",
      " [ 0  1 14  3]\n",
      " [ 0  0  1  3]\n",
      " [ 0  0  1  3]\n",
      " [ 0  0 14  3]\n",
      " [ 0  0  0  8]\n",
      " [ 0  0  0  8]\n",
      " [ 0  0  0  8]\n",
      " [ 0  0  0 39]\n",
      " [ 0  0 40  2]\n",
      " [ 0  0 41 42]\n",
      " [ 0  0 15  2]\n",
      " [ 0  0 43  2]\n",
      " [ 0  0  0 44]\n",
      " [ 0  0 15 16]\n",
      " [ 0  0  0 12]\n",
      " [ 0  7  4  5]\n",
      " [ 0  0  0 45]\n",
      " [ 0  0 13 16]\n",
      " [ 0  0  0 46]\n",
      " [ 0  0 47  2]\n",
      " [ 0  0  0 48]\n",
      " [ 0  0  9  2]\n",
      " [ 0  9  4  5]\n",
      " [ 0  9 49  2]\n",
      " [ 0  0 10 11]\n",
      " [ 0  0 17 11]\n",
      " [ 0  0 10 18]\n",
      " [ 0  0  0 19]\n",
      " [ 0  0  0 20]\n",
      " [ 0  0  0 21]\n",
      " [ 0  0  0 22]\n",
      " [ 0  0  0 23]\n",
      " [ 0  0  0  1]\n",
      " [ 0  0  0 24]\n",
      " [ 0  1  4  5]\n",
      " [ 0  0  1 25]\n",
      " [ 0  0  1 26]\n",
      " [ 0  0  1 27]\n",
      " [ 0  6 28 29]\n",
      " [ 0  0  0 30]\n",
      " [ 0  0  0 31]\n",
      " [ 0  0  6 32]\n",
      " [ 0  0  6 33]\n",
      " [ 0  0  0 12]\n",
      " [ 0  0  0 34]\n",
      " [ 0  0  0 35]\n",
      " [ 0  0 13 36]\n",
      " [ 0  7 37  2]\n",
      " [ 0  7 38  2]\n",
      " [ 0  0  0  3]\n",
      " [ 0  1 14  3]\n",
      " [ 0  0  1  3]\n",
      " [ 0  0  1  3]\n",
      " [ 0  0 14  3]\n",
      " [ 0  0  0  8]\n",
      " [ 0  0  0  8]\n",
      " [ 0  0  0  8]\n",
      " [ 0  0  0 39]\n",
      " [ 0  0 40  2]\n",
      " [ 0  0 41 42]\n",
      " [ 0  0 15  2]\n",
      " [ 0  0 43  2]\n",
      " [ 0  0  0 44]\n",
      " [ 0  0 15 16]\n",
      " [ 0  0  0 12]\n",
      " [ 0  7  4  5]\n",
      " [ 0  0  0 45]\n",
      " [ 0  0 13 16]\n",
      " [ 0  0  0 46]\n",
      " [ 0  0 47  2]\n",
      " [ 0  0  0 48]\n",
      " [ 0  0  9  2]\n",
      " [ 0  9  4  5]\n",
      " [ 0  9 49  2]]\n"
     ]
    }
   ],
   "source": [
    "print(train_text)"
   ]
  },
  {
   "cell_type": "code",
   "execution_count": 10,
   "metadata": {
    "collapsed": true
   },
   "outputs": [],
   "source": [
    "# one-hot encoding mark\n",
    "from keras.utils import np_utils\n",
    "\n",
    "mark_oneHot = np_utils.to_categorical(mark)"
   ]
  },
  {
   "cell_type": "code",
   "execution_count": 11,
   "metadata": {},
   "outputs": [
    {
     "name": "stdout",
     "output_type": "stream",
     "text": [
      "[[ 1.  0.  0. ...,  0.  0.  0.]\n",
      " [ 1.  0.  0. ...,  0.  0.  0.]\n",
      " [ 1.  0.  0. ...,  0.  0.  0.]\n",
      " ..., \n",
      " [ 0.  0.  0. ...,  0.  0.  1.]\n",
      " [ 0.  0.  0. ...,  0.  0.  1.]\n",
      " [ 0.  0.  0. ...,  0.  0.  1.]]\n"
     ]
    }
   ],
   "source": [
    "print(mark_oneHot)"
   ]
  },
  {
   "cell_type": "code",
   "execution_count": 15,
   "metadata": {},
   "outputs": [],
   "source": [
    "# model\n",
    "\n",
    "from keras.models import Sequential\n",
    "from keras.layers.core import Dense, Activation, Flatten, Dropout\n",
    "from keras.layers.embeddings import Embedding\n",
    "from keras.layers.recurrent import LSTM\n",
    "\n",
    "model = Sequential()\n",
    "model.add(Embedding(output_dim=9, input_dim=50, input_length=4))\n",
    "#\n",
    "model.add(Dropout(0.2))\n",
    "\n",
    "# model.add(Flatten())\n",
    "model.add(LSTM(32))\n",
    "model.add(Dense(units=256, activation='relu'))\n",
    "model.add(Dense(units=9, activation='softmax'))"
   ]
  },
  {
   "cell_type": "code",
   "execution_count": 16,
   "metadata": {},
   "outputs": [
    {
     "name": "stdout",
     "output_type": "stream",
     "text": [
      "_________________________________________________________________\n",
      "Layer (type)                 Output Shape              Param #   \n",
      "=================================================================\n",
      "embedding_2 (Embedding)      (None, 4, 9)              450       \n",
      "_________________________________________________________________\n",
      "dropout_2 (Dropout)          (None, 4, 9)              0         \n",
      "_________________________________________________________________\n",
      "lstm_2 (LSTM)                (None, 32)                5376      \n",
      "_________________________________________________________________\n",
      "dense_3 (Dense)              (None, 256)               8448      \n",
      "_________________________________________________________________\n",
      "dense_4 (Dense)              (None, 9)                 2313      \n",
      "=================================================================\n",
      "Total params: 16,587\n",
      "Trainable params: 16,587\n",
      "Non-trainable params: 0\n",
      "_________________________________________________________________\n"
     ]
    }
   ],
   "source": [
    "model.summary()"
   ]
  },
  {
   "cell_type": "code",
   "execution_count": 17,
   "metadata": {},
   "outputs": [
    {
     "name": "stdout",
     "output_type": "stream",
     "text": [
      "Train on 180 samples, validate on 20 samples\n",
      "Epoch 1/30\n",
      "0s - loss: 0.3486 - acc: 0.8889 - val_loss: 0.3499 - val_acc: 0.8889\n",
      "Epoch 2/30\n",
      "0s - loss: 0.3476 - acc: 0.8889 - val_loss: 0.3512 - val_acc: 0.8889\n",
      "Epoch 3/30\n",
      "0s - loss: 0.3465 - acc: 0.8889 - val_loss: 0.3529 - val_acc: 0.8889\n",
      "Epoch 4/30\n",
      "0s - loss: 0.3448 - acc: 0.8889 - val_loss: 0.3544 - val_acc: 0.8889\n",
      "Epoch 5/30\n",
      "0s - loss: 0.3424 - acc: 0.8889 - val_loss: 0.3579 - val_acc: 0.8889\n",
      "Epoch 6/30\n",
      "0s - loss: 0.3385 - acc: 0.8889 - val_loss: 0.3590 - val_acc: 0.8889\n",
      "Epoch 7/30\n",
      "0s - loss: 0.3332 - acc: 0.8889 - val_loss: 0.3614 - val_acc: 0.8889\n",
      "Epoch 8/30\n",
      "0s - loss: 0.3255 - acc: 0.8889 - val_loss: 0.3635 - val_acc: 0.8889\n",
      "Epoch 9/30\n",
      "0s - loss: 0.3135 - acc: 0.8889 - val_loss: 0.3536 - val_acc: 0.8889\n",
      "Epoch 10/30\n",
      "0s - loss: 0.2978 - acc: 0.8889 - val_loss: 0.3447 - val_acc: 0.8889\n",
      "Epoch 11/30\n",
      "0s - loss: 0.2718 - acc: 0.8889 - val_loss: 0.3313 - val_acc: 0.8889\n",
      "Epoch 12/30\n",
      "0s - loss: 0.2490 - acc: 0.8883 - val_loss: 0.3101 - val_acc: 0.8889\n",
      "Epoch 13/30\n",
      "0s - loss: 0.2216 - acc: 0.9099 - val_loss: 0.2895 - val_acc: 0.8889\n",
      "Epoch 14/30\n",
      "0s - loss: 0.1944 - acc: 0.9191 - val_loss: 0.2540 - val_acc: 0.8889\n",
      "Epoch 15/30\n",
      "0s - loss: 0.1636 - acc: 0.9383 - val_loss: 0.2239 - val_acc: 0.8889\n",
      "Epoch 16/30\n",
      "0s - loss: 0.1354 - acc: 0.9537 - val_loss: 0.1925 - val_acc: 0.9222\n",
      "Epoch 17/30\n",
      "0s - loss: 0.1140 - acc: 0.9599 - val_loss: 0.1661 - val_acc: 0.9333\n",
      "Epoch 18/30\n",
      "0s - loss: 0.0971 - acc: 0.9660 - val_loss: 0.1200 - val_acc: 0.9833\n",
      "Epoch 19/30\n",
      "0s - loss: 0.0812 - acc: 0.9741 - val_loss: 0.1258 - val_acc: 0.9444\n",
      "Epoch 20/30\n",
      "0s - loss: 0.0671 - acc: 0.9772 - val_loss: 0.0771 - val_acc: 0.9833\n",
      "Epoch 21/30\n",
      "0s - loss: 0.0548 - acc: 0.9895 - val_loss: 0.0830 - val_acc: 0.9722\n",
      "Epoch 22/30\n",
      "0s - loss: 0.0522 - acc: 0.9796 - val_loss: 0.0517 - val_acc: 0.9889\n",
      "Epoch 23/30\n",
      "0s - loss: 0.0441 - acc: 0.9864 - val_loss: 0.0629 - val_acc: 0.9778\n",
      "Epoch 24/30\n",
      "0s - loss: 0.0409 - acc: 0.9901 - val_loss: 0.0472 - val_acc: 0.9944\n",
      "Epoch 25/30\n",
      "0s - loss: 0.0394 - acc: 0.9877 - val_loss: 0.0490 - val_acc: 0.9778\n",
      "Epoch 26/30\n",
      "0s - loss: 0.0323 - acc: 0.9883 - val_loss: 0.0364 - val_acc: 0.9833\n",
      "Epoch 27/30\n",
      "0s - loss: 0.0315 - acc: 0.9901 - val_loss: 0.0449 - val_acc: 0.9833\n",
      "Epoch 28/30\n",
      "0s - loss: 0.0295 - acc: 0.9895 - val_loss: 0.0313 - val_acc: 0.9833\n",
      "Epoch 29/30\n",
      "0s - loss: 0.0269 - acc: 0.9914 - val_loss: 0.0268 - val_acc: 0.9833\n",
      "Epoch 30/30\n",
      "0s - loss: 0.0213 - acc: 0.9920 - val_loss: 0.0299 - val_acc: 0.9833\n"
     ]
    }
   ],
   "source": [
    "# 定義訓練方式\n",
    "model.compile(loss='binary_crossentropy', optimizer='adam', metrics=['accuracy'])\n",
    "\n",
    "# 開始訓練\n",
    "train_history = model.fit(train_text, mark_oneHot, batch_size=20, epochs=30, verbose=2, validation_split=0.1)"
   ]
  },
  {
   "cell_type": "code",
   "execution_count": 18,
   "metadata": {},
   "outputs": [
    {
     "name": "stdout",
     "output_type": "stream",
     "text": [
      "\r",
      " 32/200 [===>..........................] - ETA: 0s"
     ]
    },
    {
     "data": {
      "text/plain": [
       "0.99333333730697637"
      ]
     },
     "execution_count": 18,
     "metadata": {},
     "output_type": "execute_result"
    }
   ],
   "source": [
    "# 評估\n",
    "scores = model.evaluate(train_text, mark_oneHot)\n",
    "scores[1]"
   ]
  },
  {
   "cell_type": "code",
   "execution_count": 83,
   "metadata": {},
   "outputs": [
    {
     "name": "stdout",
     "output_type": "stream",
     "text": [
      "輸入要查詢的字詞：有點胃痛\n",
      "['有點 胃痛']\n",
      "[[28, 12]]\n",
      "[[ 0  0 28 12]]\n",
      "1/1 [==============================] - 0s\n"
     ]
    }
   ],
   "source": [
    "query = input('輸入要查詢的字詞：')\n",
    "seg_query = jieba.cut(query, cut_all=False)\n",
    "query_line = []\n",
    "query_line.append(' '.join(seg_query).rstrip('\\n'))\n",
    "print(query_line)\n",
    "\n",
    "input_seq = token.texts_to_sequences(query_line) # 轉成數字list\n",
    "print(input_seq)\n",
    "\n",
    "pad_input_seq = sequence.pad_sequences(input_seq, maxlen=4) # 長度轉為4\n",
    "print(pad_input_seq)\n",
    "\n",
    "predict_soft = model.predict(pad_input_seq)\n",
    "predict = model.predict_classes(pad_input_seq)\n",
    "\n",
    "# 有點胃痛\n",
    "# 胃有點痛"
   ]
  },
  {
   "cell_type": "code",
   "execution_count": 84,
   "metadata": {
    "collapsed": true
   },
   "outputs": [],
   "source": [
    "predict_symptom_dict = {0:'火大', 1:'咳嗽', 2:'高血壓', 3:'胃潰瘍', 4:'痰', 5:'風濕', 6:'筋骨痛',\n",
    "                        7:'胃痛', 8:'腎臟病'}"
   ]
  },
  {
   "cell_type": "code",
   "execution_count": 85,
   "metadata": {},
   "outputs": [
    {
     "data": {
      "text/plain": [
       "'胃痛'"
      ]
     },
     "execution_count": 85,
     "metadata": {},
     "output_type": "execute_result"
    }
   ],
   "source": [
    "# 輸出預測結果\n",
    "result = predict[0]\n",
    "predict_symptom_dict[result]"
   ]
  },
  {
   "cell_type": "code",
   "execution_count": 86,
   "metadata": {},
   "outputs": [
    {
     "name": "stdout",
     "output_type": "stream",
     "text": [
      "[[  1.01115496e-03   1.06555483e-07   1.11942329e-02   2.22588420e-01\n",
      "    8.37250842e-12   1.21467929e-05   2.19379246e-04   7.64011145e-01\n",
      "    9.63415136e-04]]\n"
     ]
    }
   ],
   "source": [
    "# 預測結果機率分布\n",
    "print(predict_soft)"
   ]
  },
  {
   "cell_type": "markdown",
   "metadata": {},
   "source": [
    "### 斷句實驗(用window)"
   ]
  },
  {
   "cell_type": "code",
   "execution_count": 93,
   "metadata": {},
   "outputs": [
    {
     "data": {
      "text/plain": [
       "['感覺最近火',\n",
       " '最近火氣有',\n",
       " '火氣有點大',\n",
       " '有點大，而',\n",
       " '大，而且喉',\n",
       " '而且喉嚨有',\n",
       " '喉嚨有點痛',\n",
       " '有點痛應該',\n",
       " '痛應該有痰',\n",
       " '該有痰']"
      ]
     },
     "execution_count": 93,
     "metadata": {},
     "output_type": "execute_result"
    }
   ],
   "source": [
    "# sentence window\n",
    "\n",
    "# good:\n",
    "# 這幾天有點胃痛，而且已經腰酸背痛很久了\n",
    "\n",
    "sentence = '感覺最近火氣有點大，而且喉嚨有點痛應該有痰'\n",
    "\n",
    "window_list = []\n",
    "\n",
    "# window len = 5\n",
    "win_start = 0\n",
    "win_end = 5\n",
    "\n",
    "step_move = 2 # 每次移動幾格\n",
    "\n",
    "# print(sentence[win_start:win_end])\n",
    "# print(sentence[win_start+step_move:win_end+step_move])\n",
    "# print(sentence[win_start+step_move*2:win_end+step_move*2])\n",
    "# print(sentence[win_start+step_move*3:win_end+step_move*3])\n",
    "# print(sentence[win_start+step_move*4:win_end+step_move*4])\n",
    "# print(sentence[win_start+step_move*5:win_end+step_move*5])\n",
    "# print(sentence[win_start+step_move*6:win_end+step_move*6])\n",
    "# print(sentence[win_start+step_move*7:win_end+step_move*7])\n",
    "\n",
    "count = 0\n",
    "while( win_end <= len(sentence) ):\n",
    "    win_start = 0\n",
    "    win_end = 5\n",
    "    \n",
    "    win_start = win_start + step_move*count\n",
    "    win_end = win_end + step_move*count\n",
    "    \n",
    "    window_sentence = sentence[win_start:win_end]\n",
    "    \n",
    "    window_list.append( window_sentence )\n",
    "    \n",
    "    count = count +1\n",
    "\n",
    "# print    \n",
    "window_list"
   ]
  },
  {
   "cell_type": "code",
   "execution_count": 94,
   "metadata": {},
   "outputs": [
    {
     "name": "stdout",
     "output_type": "stream",
     "text": [
      "1/1 [==============================] - 0s\n",
      "1/1 [==============================] - 0s\n",
      "1/1 [==============================] - 0s\n",
      "1/1 [==============================] - 0s\n",
      "1/1 [==============================] - 0s\n",
      "1/1 [==============================] - 0s\n",
      "1/1 [==============================] - 0s\n",
      "1/1 [==============================] - 0s\n",
      "1/1 [==============================] - 0s\n",
      "1/1 [==============================] - 0s\n"
     ]
    },
    {
     "data": {
      "text/plain": [
       "['火大', '火大', '火大', '火大', '痰', '咳嗽', '痰', '痰']"
      ]
     },
     "execution_count": 94,
     "metadata": {},
     "output_type": "execute_result"
    }
   ],
   "source": [
    "# 拿window處理過後的句子，去預測\n",
    "\n",
    "win_predict = []\n",
    "\n",
    "for sen in window_list:\n",
    "    query = sen\n",
    "    seg_query = jieba.cut(query, cut_all=False)\n",
    "    query_line = []\n",
    "    query_line.append(' '.join(seg_query).rstrip('\\n'))\n",
    "    # print(query_line)\n",
    "\n",
    "    input_seq = token.texts_to_sequences(query_line) # 轉成數字list\n",
    "    # print(input_seq)\n",
    "\n",
    "    pad_input_seq = sequence.pad_sequences(input_seq, maxlen=4) # 長度轉為4\n",
    "    # print(pad_input_seq)\n",
    "\n",
    "    predict = model.predict_classes(pad_input_seq)\n",
    "    predict_soft = model.predict(pad_input_seq) # 機率分布\n",
    "    \n",
    "    # 如果沒超過某個機率不能列入\n",
    "    if max(predict_soft[0])<0.7:\n",
    "        pass\n",
    "    else:\n",
    "        win_predict.append( predict_symptom_dict[ predict[0] ] )\n",
    "    \n",
    "# print\n",
    "win_predict"
   ]
  },
  {
   "cell_type": "code",
   "execution_count": 95,
   "metadata": {},
   "outputs": [
    {
     "data": {
      "text/plain": [
       "['痰', '咳嗽', '火大']"
      ]
     },
     "execution_count": 95,
     "metadata": {},
     "output_type": "execute_result"
    }
   ],
   "source": [
    "# 把重複的刪除\n",
    "win_predict = list(set(win_predict))\n",
    "win_predict"
   ]
  },
  {
   "cell_type": "code",
   "execution_count": null,
   "metadata": {
    "collapsed": true
   },
   "outputs": [],
   "source": []
  }
 ],
 "metadata": {
  "kernelspec": {
   "display_name": "Python 3",
   "language": "python",
   "name": "python3"
  },
  "language_info": {
   "codemirror_mode": {
    "name": "ipython",
    "version": 3
   },
   "file_extension": ".py",
   "mimetype": "text/x-python",
   "name": "python",
   "nbconvert_exporter": "python",
   "pygments_lexer": "ipython3",
   "version": "3.6.1"
  }
 },
 "nbformat": 4,
 "nbformat_minor": 2
}
